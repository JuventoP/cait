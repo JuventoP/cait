{
 "cells": [
  {
   "cell_type": "markdown",
   "metadata": {},
   "source": [
    "****************************************\n",
    "# Conversion of Hardware-triggered Data\n",
    "****************************************"
   ]
  },
  {
   "cell_type": "markdown",
   "metadata": {},
   "source": [
    "In this tutorial, we generate mock hardware triggered data to test all functionality of Cait. The generated data is in all properties similar to data from the CRESST and COSINUS data aquisitions that work with the program CSS. The only exception is that the noise and pulses are not measured, but generated with parametric descriptions of the pulse shape and normal distributed noise.\n",
    "\n",
    "We start with importing the library."
   ]
  },
  {
   "cell_type": "code",
   "execution_count": 1,
   "metadata": {
    "ExecuteTime": {
     "end_time": "2021-03-17T21:41:03.226160Z",
     "start_time": "2021-03-17T21:41:00.692258Z"
    }
   },
   "outputs": [],
   "source": [
    "import cait as ai"
   ]
  },
  {
   "cell_type": "markdown",
   "metadata": {},
   "source": [
    "## Generate Test Data"
   ]
  },
  {
   "cell_type": "markdown",
   "metadata": {},
   "source": [
    "The TestData class handles the generation of data."
   ]
  },
  {
   "cell_type": "code",
   "execution_count": 2,
   "metadata": {
    "ExecuteTime": {
     "end_time": "2021-03-17T21:41:05.197754Z",
     "start_time": "2021-03-17T21:41:03.228346Z"
    }
   },
   "outputs": [],
   "source": [
    "test_data = ai.data.TestData(filepath='test_data/mock_001', duration=1800)"
   ]
  },
  {
   "cell_type": "markdown",
   "metadata": {},
   "source": [
    "First we generate an RDT file, that holds all triggered events, test pulses and noise events. Right after the generation we call a check function, that prints the content of the first event, to check if the file is properly written."
   ]
  },
  {
   "cell_type": "code",
   "execution_count": 3,
   "metadata": {
    "ExecuteTime": {
     "end_time": "2021-03-17T21:41:06.453266Z",
     "start_time": "2021-03-17T21:41:05.200769Z"
    },
    "scrolled": true
   },
   "outputs": [
    {
     "name": "stdout",
     "output_type": "stream",
     "text": [
      "Rdt file written.\n",
      "DataHandler Instance created.\n",
      "#############################################################\n",
      "EVENT NUMBER:  0\n",
      "detector number (starting at 0):  0\n",
      "number of coincident pulses in digitizer module:  0\n",
      "module trigger counter (starts at 0, when TRA or WRITE starts):  1\n",
      "channel trigger delay relative to time stamp [µs]:  0\n",
      "absolute time [s] (computer time timeval.tv_sec):  1602879726\n",
      "absolute time [us] (computer time timeval.tv_us):  0\n",
      "Delay of channel trigger to testpulse [us]:  0\n",
      "time stamp of module trigger low word (10 MHz clock, 0 @ START WRITE ):  0\n",
      "time stamp of module trigger high word (10 MHz clock, 0 @ START WRITE ):  6\n",
      "number of qdc events accumulated until digitizer trigger:  0\n",
      "measuring hours (0 @ START WRITE):  0.0016666667070239782\n",
      "accumulated dead time of channel [s] (0 @ START WRITE):  0.0\n",
      "test pulse amplitude (0. for pulses, (0.,10.] for test pulses, >10. for control pulses):  0.10000000149011612\n",
      "DAC output of control program (proportional to heater power):  0.0\n"
     ]
    }
   ],
   "source": [
    "test_data._generate_rdt_file()\n",
    "dh = ai.DataHandler()\n",
    "dh.checkout_rdt(path_rdt='test_data/mock_001.rdt', read_events=1, verb=True)"
   ]
  },
  {
   "cell_type": "markdown",
   "metadata": {},
   "source": [
    "The CON file holds the time stamps and pulse heights of the control pulses. Also for the CON file, we call a check function after the data generation."
   ]
  },
  {
   "cell_type": "code",
   "execution_count": 4,
   "metadata": {
    "ExecuteTime": {
     "end_time": "2021-03-17T21:41:06.496165Z",
     "start_time": "2021-03-17T21:41:06.455467Z"
    }
   },
   "outputs": [
    {
     "name": "stdout",
     "output_type": "stream",
     "text": [
      "Con file written.\n",
      "DataHandler Instance created.\n",
      "5 control pulses read from CON file.\n",
      " \tdetector_nmbr,\t \tpulse_height, \ttime_stamp_low, \ttime_stamp_high, \tdead_time, \tmus_since_last_tp\n",
      "1\t0\t\t6.05\t\t30000000\t\t0\t\t\t0.0\t[0]\n",
      "2\t1\t\t4.15\t\t30000000\t\t0\t\t\t0.0\t[0]\n",
      "3\t0\t\t5.66\t\t120000000\t\t0\t\t\t0.0\t[0]\n",
      "4\t1\t\t3.92\t\t120000000\t\t0\t\t\t0.0\t[0]\n",
      "5\t0\t\t5.65\t\t210000000\t\t0\t\t\t0.0\t[0]\n"
     ]
    }
   ],
   "source": [
    "test_data._generate_con_file()\n",
    "dh = ai.DataHandler()\n",
    "dh.checkout_con(path_con='test_data/mock_001.con', read_events=5)"
   ]
  },
  {
   "cell_type": "markdown",
   "metadata": {},
   "source": [
    "To every RDT file belongs a PAR file, which is a text file with additional information. The generated PAR file can be checked by opening it with a text editor or with \"vim FILE_NAME\" in the command line."
   ]
  },
  {
   "cell_type": "code",
   "execution_count": 5,
   "metadata": {
    "ExecuteTime": {
     "end_time": "2021-03-17T21:41:06.504018Z",
     "start_time": "2021-03-17T21:41:06.498617Z"
    }
   },
   "outputs": [
    {
     "name": "stdout",
     "output_type": "stream",
     "text": [
      "Par file written.\n"
     ]
    }
   ],
   "source": [
    "test_data._generate_par_file()\n",
    "# test by looking at the text file!"
   ]
  },
  {
   "cell_type": "markdown",
   "metadata": {},
   "source": [
    "We repeat the data generation for a second file, this time we call a pre-implemented method that does the steps from above all at once. Notice that we specify the gap in measuring time between the two files."
   ]
  },
  {
   "cell_type": "code",
   "execution_count": 6,
   "metadata": {
    "ExecuteTime": {
     "end_time": "2021-03-17T21:41:07.530088Z",
     "start_time": "2021-03-17T21:41:06.506649Z"
    }
   },
   "outputs": [
    {
     "name": "stdout",
     "output_type": "stream",
     "text": [
      "Rdt file written.\n",
      "Con file written.\n",
      "Par file written.\n"
     ]
    }
   ],
   "source": [
    "test_data.update_filepath(file_path='test_data/mock_002')\n",
    "test_data.generate(start_offset=1.5 * 3600, source='hw')"
   ]
  },
  {
   "cell_type": "markdown",
   "metadata": {},
   "source": [
    "## Data Conversion"
   ]
  },
  {
   "cell_type": "markdown",
   "metadata": {},
   "source": [
    "The Cait library accesses and stores its data in HDF5 files, which are a structured file format and convenient for high-level applications. We are aware, that saving the data twice might be inefficient in terms of storage space. However, as a solution for this we propose to keep the raw data events only so long in the HDF5 files, until all needed high level features of the raw data are calculated. We show below how this is done.\n",
    "\n",
    "But first, we generate a HDF5 file from the events that are contained in the RDT file and the control pulses from the CON file. For this, the PAR file must be in the same directory as the RDT file."
   ]
  },
  {
   "cell_type": "code",
   "execution_count": 7,
   "metadata": {
    "ExecuteTime": {
     "end_time": "2021-03-17T21:41:19.507048Z",
     "start_time": "2021-03-17T21:41:07.533889Z"
    }
   },
   "outputs": [
    {
     "name": "stdout",
     "output_type": "stream",
     "text": [
      "DataHandler Instance created.\n",
      "Start converting.\n",
      "READ EVENTS FROM RDT FILE.\n",
      "Total Records in File:  800\n",
      "Event Counts:  399\n",
      "WORKING ON EVENTS WITH TPA = 0.\n",
      "CREATE DATASET WITH EVENTS.\n",
      "CALCULATE MAIN PARAMETERS.\n",
      "WORKING ON EVENTS WITH TPA = -1.\n",
      "CREATE DATASET WITH NOISE.\n",
      "WORKING ON EVENTS WITH TPA > 0.\n",
      "CREATE DATASET WITH TESTPULSES.\n",
      "CALCULATE MP.\n",
      "Hdf5 dataset created in  test_data/\n",
      "Filepath and -name saved.\n",
      "Accessing CON File...\n",
      "200 Control Pulses for channel 0 in file.\n",
      "CON File included.\n",
      "DataHandler Instance created.\n",
      "Start converting.\n",
      "READ EVENTS FROM RDT FILE.\n",
      "Total Records in File:  800\n",
      "Event Counts:  399\n",
      "WORKING ON EVENTS WITH TPA = 0.\n",
      "CREATE DATASET WITH EVENTS.\n",
      "CALCULATE MAIN PARAMETERS.\n",
      "WORKING ON EVENTS WITH TPA = -1.\n",
      "CREATE DATASET WITH NOISE.\n",
      "WORKING ON EVENTS WITH TPA > 0.\n",
      "CREATE DATASET WITH TESTPULSES.\n",
      "CALCULATE MP.\n",
      "Hdf5 dataset created in  test_data/\n",
      "Filepath and -name saved.\n",
      "Accessing CON File...\n",
      "200 Control Pulses for channel 0 in file.\n",
      "CON File included.\n"
     ]
    }
   ],
   "source": [
    "# Conversion from Rdt to HDF5\n",
    "\n",
    "path_data = 'test_data/'\n",
    "file_names = ['mock_001',\n",
    "              'mock_002']\n",
    "\n",
    "for file in file_names:\n",
    "    # --------------------------------------------------\n",
    "    # Convert Rdt to H5\n",
    "    # --------------------------------------------------\n",
    "\n",
    "    dh = ai.DataHandler(run='01',\n",
    "                        module='Test',\n",
    "                        channels=[0, 1],\n",
    "                        record_length=16384,\n",
    "                        sample_frequency=25000)\n",
    "    \n",
    "    dh.convert_dataset(path_rdt=path_data,\n",
    "                       fname=file,\n",
    "                       path_h5=path_data,\n",
    "                       tpa_list=[0, 1, -1],\n",
    "                       calc_mp=True,\n",
    "                       calc_nps=True)\n",
    "\n",
    "    # --------------------------------------------------\n",
    "    # Include con file\n",
    "    # --------------------------------------------------\n",
    "\n",
    "    dh.include_con_file(path_con_file=path_data + file + '.con')"
   ]
  },
  {
   "cell_type": "markdown",
   "metadata": {},
   "source": [
    "Above we called for the first time the DataHandler class. This is a heavy class, that handles all the feature calculations of the raw data. It has stored the path to the HDF5 file as an attribute and saves all calculated properties there."
   ]
  },
  {
   "cell_type": "markdown",
   "metadata": {},
   "source": [
    "We are often in the position, that we want to process data from multiple consecutive measurements in common. For this, we can merge two converted files and specify, if we want to keep the indicidual files. For large scale data processing, were often events from more than a hundred RDT files is processed, we propose to call the conversion and merge function in a loop, while always deleting the files that are merged already."
   ]
  },
  {
   "cell_type": "code",
   "execution_count": 8,
   "metadata": {
    "ExecuteTime": {
     "end_time": "2021-03-17T21:41:19.756174Z",
     "start_time": "2021-03-17T21:41:19.510582Z"
    }
   },
   "outputs": [
    {
     "name": "stdout",
     "output_type": "stream",
     "text": [
      "--> MERGE GROUP: events.\n",
      "SET: event.\n",
      "creating ...\n",
      "SET: mainpar.\n",
      "creating ...\n",
      "SET: true_ph.\n",
      "SET: true_onset.\n",
      "SET: of_ph.\n",
      "SET: sev_fit_par.\n",
      "SET: sev_fit_rms.\n",
      "SET: hours.\n",
      "creating ...\n",
      "SET: labels.\n",
      "SET: testpulseamplitude.\n",
      "SET: time_s.\n",
      "creating ...\n",
      "SET: time_mus.\n",
      "creating ...\n",
      "SET: pulse_height.\n",
      "--> MERGE GROUP: testpulses.\n",
      "SET: event.\n",
      "creating ...\n",
      "SET: mainpar.\n",
      "creating ...\n",
      "SET: true_ph.\n",
      "SET: true_onset.\n",
      "SET: of_ph.\n",
      "SET: sev_fit_par.\n",
      "SET: sev_fit_rms.\n",
      "SET: hours.\n",
      "creating ...\n",
      "SET: labels.\n",
      "SET: testpulseamplitude.\n",
      "creating ...\n",
      "SET: time_s.\n",
      "creating ...\n",
      "SET: time_mus.\n",
      "creating ...\n",
      "SET: pulse_height.\n",
      "--> MERGE GROUP: noise.\n",
      "SET: event.\n",
      "creating ...\n",
      "SET: mainpar.\n",
      "SET: true_ph.\n",
      "SET: true_onset.\n",
      "SET: of_ph.\n",
      "SET: sev_fit_par.\n",
      "SET: sev_fit_rms.\n",
      "SET: hours.\n",
      "creating ...\n",
      "SET: labels.\n",
      "SET: testpulseamplitude.\n",
      "SET: time_s.\n",
      "creating ...\n",
      "SET: time_mus.\n",
      "creating ...\n",
      "SET: pulse_height.\n",
      "--> MERGE GROUP: controlpulses.\n",
      "SET: event.\n",
      "SET: mainpar.\n",
      "SET: true_ph.\n",
      "SET: true_onset.\n",
      "SET: of_ph.\n",
      "SET: sev_fit_par.\n",
      "SET: sev_fit_rms.\n",
      "SET: hours.\n",
      "creating ...\n",
      "SET: labels.\n",
      "SET: testpulseamplitude.\n",
      "SET: time_s.\n",
      "SET: time_mus.\n",
      "SET: pulse_height.\n",
      "creating ...\n",
      "Merge done.\n"
     ]
    }
   ],
   "source": [
    "ai.data.merge_h5_sets(path_h5_a=path_data + file_names[0] + '-P_Ch0-L_Ch1.h5', \n",
    "                      path_h5_b=path_data + file_names[1] + '-P_Ch0-L_Ch1.h5', \n",
    "                      path_h5_merged=path_data + 'test_001.h5', \n",
    "                      continue_hours=True,\n",
    "                      keep_original_files=True)"
   ]
  },
  {
   "cell_type": "markdown",
   "metadata": {},
   "source": [
    "Now we kept the original two files, but we don't need the raw events from both anymore. So we delete them from one of the H5 files."
   ]
  },
  {
   "cell_type": "code",
   "execution_count": 9,
   "metadata": {
    "ExecuteTime": {
     "end_time": "2021-03-17T21:41:19.764301Z",
     "start_time": "2021-03-17T21:41:19.758200Z"
    }
   },
   "outputs": [
    {
     "name": "stdout",
     "output_type": "stream",
     "text": [
      "DataHandler Instance created.\n",
      "Dataset Event deleted from group events.\n"
     ]
    }
   ],
   "source": [
    "dh = ai.DataHandler()\n",
    "dh.set_filepath(path_h5=path_data, fname=file_names[1], appendix=True)\n",
    "dh.drop_raw_data()"
   ]
  },
  {
   "cell_type": "markdown",
   "metadata": {},
   "source": [
    "If we need them again at a later point, we can again include them."
   ]
  },
  {
   "cell_type": "code",
   "execution_count": 10,
   "metadata": {
    "ExecuteTime": {
     "end_time": "2021-03-17T21:41:20.077242Z",
     "start_time": "2021-03-17T21:41:19.766007Z"
    }
   },
   "outputs": [
    {
     "name": "stdout",
     "output_type": "stream",
     "text": [
      "Accessing RDT File ...\n",
      "Total Records in File:  800\n",
      "Event Counts:  399\n",
      "Adding 80 triggered Events.\n",
      "Adding 80 Noise Events.\n",
      "Adding 239 Testpulse Events.\n",
      "Done.\n"
     ]
    }
   ],
   "source": [
    "dh.include_rdt(path_data=path_data, \n",
    "               fname=file_names[1], \n",
    "               channels=[0, 1])"
   ]
  },
  {
   "cell_type": "markdown",
   "metadata": {},
   "source": [
    "Please forward questions and correspondence about this notebook to felix.wagner(at)oeaw.ac.at."
   ]
  }
 ],
 "metadata": {
  "kernelspec": {
   "display_name": "Python 3",
   "language": "python",
   "name": "python3"
  },
  "language_info": {
   "codemirror_mode": {
    "name": "ipython",
    "version": 3
   },
   "file_extension": ".py",
   "mimetype": "text/x-python",
   "name": "python",
   "nbconvert_exporter": "python",
   "pygments_lexer": "ipython3",
   "version": "3.8.6"
  },
  "varInspector": {
   "cols": {
    "lenName": 16,
    "lenType": 16,
    "lenVar": 40
   },
   "kernels_config": {
    "python": {
     "delete_cmd_postfix": "",
     "delete_cmd_prefix": "del ",
     "library": "var_list.py",
     "varRefreshCmd": "print(var_dic_list())"
    },
    "r": {
     "delete_cmd_postfix": ") ",
     "delete_cmd_prefix": "rm(",
     "library": "var_list.r",
     "varRefreshCmd": "cat(var_dic_list()) "
    }
   },
   "types_to_exclude": [
    "module",
    "function",
    "builtin_function_or_method",
    "instance",
    "_Feature"
   ],
   "window_display": false
  }
 },
 "nbformat": 4,
 "nbformat_minor": 4
}
