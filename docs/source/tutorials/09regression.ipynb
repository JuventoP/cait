{
 "cells": [
  {
   "cell_type": "markdown",
   "metadata": {},
   "source": [
    "****************************************************************\n",
    "# Neural Networks for Regression\n",
    "****************************************************************"
   ]
  },
  {
   "cell_type": "code",
   "execution_count": null,
   "metadata": {},
   "outputs": [],
   "source": [
    "import numpy as np\n",
    "import cait as ai\n",
    "from pytorch_lightning import Trainer\n",
    "from torchvision import transforms\n",
    "import h5py\n",
    "from cait.datasets import RemoveOffset, Normalize, DownSample, ToTensor, CryoDataModule\n",
    "from cait.models import LSTMModule, nn_predict\n",
    "from pytorch_lightning.callbacks import ModelCheckpoint\n",
    "import matplotlib.pyplot as plt\n",
    "%config InlineBackend.figure_formats = ['svg']  # we need this for a suitable resolution of the plots"
   ]
  },
  {
   "cell_type": "code",
   "execution_count": null,
   "metadata": {},
   "outputs": [],
   "source": []
  },
  {
   "cell_type": "code",
   "execution_count": null,
   "metadata": {},
   "outputs": [],
   "source": []
  },
  {
   "cell_type": "code",
   "execution_count": null,
   "metadata": {},
   "outputs": [],
   "source": []
  },
  {
   "cell_type": "code",
   "execution_count": null,
   "metadata": {},
   "outputs": [],
   "source": []
  },
  {
   "cell_type": "code",
   "execution_count": null,
   "metadata": {},
   "outputs": [],
   "source": []
  },
  {
   "cell_type": "code",
   "execution_count": null,
   "metadata": {},
   "outputs": [],
   "source": []
  },
  {
   "cell_type": "code",
   "execution_count": null,
   "metadata": {},
   "outputs": [],
   "source": [
    "# some parameters\n",
    "# nmbr_gpus = ... uncommment and put in trainer to use GPUs\n",
    "path_h5 = '../CRESST_DATA/Run35_DetF/bck_001-P_Ch26-L_Ch27.h5'\n",
    "type = 'events'\n",
    "keys = ['event', 'mainpar']\n",
    "channel_indices = [[0], [0]]\n",
    "feature_indices = [None, [0]]\n",
    "feature_keys = ['event_ch0']\n",
    "label_keys = ['mainpar_ch0_fe0']\n",
    "norm_vals = {'event_ch0': [0, 1]}\n",
    "down_keys = ['event_ch0']\n",
    "down = 64\n",
    "input_size = 8\n",
    "nmbr_out = 1\n",
    "device_name='cpu'\n",
    "\n",
    "# create the transforms\n",
    "transforms = transforms.Compose([RemoveOffset(keys=feature_keys),\n",
    "                                 Normalize(norm_vals=norm_vals),\n",
    "                                 DownSample(keys=down_keys, down=down),\n",
    "                                 ToTensor()])\n",
    "\n",
    "# create data module and init the setup\n",
    "dm = CryoDataModule(hdf5_path=path_h5,\n",
    "                    type=type,\n",
    "                    keys=keys,\n",
    "                    channel_indices=channel_indices,\n",
    "                    feature_indices=feature_indices,\n",
    "                    transform=transforms)\n",
    "\n",
    "dm.prepare_data(val_size=0.2,\n",
    "                test_size=0.2,\n",
    "                batch_size=32,\n",
    "                dataset_size=None,\n",
    "                nmbr_workers=0,  # set to number of CPUS on the machine\n",
    "                only_idx=None,\n",
    "                shuffle_dataset=True,\n",
    "                random_seed=42,\n",
    "                feature_keys=feature_keys,\n",
    "                label_keys=label_keys,\n",
    "                keys_one_hot=[])\n",
    "dm.setup()\n",
    "\n",
    "# create lstm clf\n",
    "lstm = LSTMModule(input_size=input_size,\n",
    "                  hidden_size=input_size * 10,\n",
    "                  num_layers=2,\n",
    "                  seq_steps=int(dm.dims[1] / input_size),  # downsampling is already considered in dm\n",
    "                  device_name=device_name,\n",
    "                  nmbr_out=nmbr_out,  # this is the number of labels\n",
    "                  lr=1e-2,\n",
    "                  label_keys=label_keys,\n",
    "                  feature_keys=feature_keys,\n",
    "                  is_classifier=False,\n",
    "                  down=down,\n",
    "                  down_keys=feature_keys,\n",
    "                  norm_vals=norm_vals,\n",
    "                  offset_keys=feature_keys)\n",
    "\n",
    "# create instance of Trainer\n",
    "trainer = Trainer(max_epochs=10)\n",
    "# keyword gpus=nmbr_gpus for GPU Usage\n",
    "# keyword max_epochs for number of maximal epochs\n",
    "\n",
    "# all training happens here\n",
    "trainer.fit(model=lstm,\n",
    "            datamodule=dm)\n",
    "\n",
    "# run test set\n",
    "result = trainer.test()\n",
    "print(result)\n",
    "\n",
    "# model can be saved and loaded with instane of ModelHandler that uses pickle\n",
    "\n",
    "\n",
    "# predictions with the model are made that way\n",
    "f = h5py.File(dm.hdf5_path, 'r')\n",
    "x = {feature_keys[0]: f[type][keys[0]][channel_indices[0][0]]}  # array of shape: (nmbr_events, nmbr_features)\n",
    "prediction = lstm.predict(x)\n",
    "\n",
    "# predictions can be saved with instance of EvaluationTools\n",
    "print('PREDICTION: ', prediction)\n"
   ]
  },
  {
   "cell_type": "code",
   "execution_count": null,
   "metadata": {},
   "outputs": [],
   "source": [
    "# include regression values in the HDF5 file"
   ]
  }
 ],
 "metadata": {
  "kernelspec": {
   "display_name": "Python 3",
   "language": "python",
   "name": "python3"
  },
  "language_info": {
   "codemirror_mode": {
    "name": "ipython",
    "version": 3
   },
   "file_extension": ".py",
   "mimetype": "text/x-python",
   "name": "python",
   "nbconvert_exporter": "python",
   "pygments_lexer": "ipython3",
   "version": "3.8.6"
  },
  "varInspector": {
   "cols": {
    "lenName": 16,
    "lenType": 16,
    "lenVar": 40
   },
   "kernels_config": {
    "python": {
     "delete_cmd_postfix": "",
     "delete_cmd_prefix": "del ",
     "library": "var_list.py",
     "varRefreshCmd": "print(var_dic_list())"
    },
    "r": {
     "delete_cmd_postfix": ") ",
     "delete_cmd_prefix": "rm(",
     "library": "var_list.r",
     "varRefreshCmd": "cat(var_dic_list()) "
    }
   },
   "types_to_exclude": [
    "module",
    "function",
    "builtin_function_or_method",
    "instance",
    "_Feature"
   ],
   "window_display": false
  }
 },
 "nbformat": 4,
 "nbformat_minor": 4
}
