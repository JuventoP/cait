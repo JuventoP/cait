{
 "cells": [
  {
   "cell_type": "markdown",
   "metadata": {},
   "source": [
    "****************************************************************\n",
    "# Neural Networks for Regression\n",
    "****************************************************************"
   ]
  },
  {
   "cell_type": "markdown",
   "metadata": {},
   "source": [
    "In this tutorial we train a neural network for the task of pulse height regression. In previous work equally precise pulse height discrimination as with the optimum filter could be achieved, with improved robustness to noise fluctuations.\n",
    "\n",
    "Same as in the previous notebook, we use an LSTM model, PyTorch and PyTorch Lightning. We will not explain all utility steps again but reference the notebook for classification with neural networks."
   ]
  },
  {
   "cell_type": "code",
   "execution_count": 1,
   "metadata": {
    "ExecuteTime": {
     "end_time": "2021-02-26T21:46:20.874361Z",
     "start_time": "2021-02-26T21:46:17.809608Z"
    }
   },
   "outputs": [],
   "source": [
    "import numpy as np\n",
    "import cait as ai\n",
    "from pytorch_lightning import Trainer\n",
    "from torchvision import transforms\n",
    "import h5py\n",
    "from cait.datasets import RemoveOffset, Normalize, DownSample, ToTensor, CryoDataModule\n",
    "from cait.models import LSTMModule, nn_predict\n",
    "from pytorch_lightning.callbacks import ModelCheckpoint\n",
    "import matplotlib.pyplot as plt\n",
    "%config InlineBackend.figure_formats = ['svg']  # we need this for a suitable resolution of the plots"
   ]
  },
  {
   "cell_type": "markdown",
   "metadata": {},
   "source": [
    "As we work on a regression problem now, the use the mean squared error to the true pulse height as optimization objective."
   ]
  },
  {
   "cell_type": "code",
   "execution_count": 2,
   "metadata": {
    "ExecuteTime": {
     "end_time": "2021-02-26T21:46:20.880541Z",
     "start_time": "2021-02-26T21:46:20.876697Z"
    }
   },
   "outputs": [],
   "source": [
    "# some parameters\n",
    "# nmbr_gpus = ... uncommment and put in trainer to use GPUs\n",
    "path_h5 = 'test_data/efficiency_001.h5'\n",
    "type = 'events'\n",
    "keys = ['event', 'true_ph']\n",
    "channel_indices = [[0], [0]]\n",
    "feature_indices = [None, None]\n",
    "feature_keys = ['event_ch0']\n",
    "label_keys = ['true_ph_ch0']\n",
    "norm_vals = {'event_ch0': [0, 1]}\n",
    "down_keys = ['event_ch0']\n",
    "down = 8\n",
    "input_size = 8\n",
    "nmbr_out = 1\n",
    "device_name='cpu'\n",
    "max_epochs = 30\n",
    "save_naming = 'lstm-reg'"
   ]
  },
  {
   "cell_type": "markdown",
   "metadata": {},
   "source": [
    "## Dataset und Model"
   ]
  },
  {
   "cell_type": "markdown",
   "metadata": {},
   "source": [
    "As in the previous notebook we define the data transformations, the DataModule and the LightningModule."
   ]
  },
  {
   "cell_type": "code",
   "execution_count": 3,
   "metadata": {
    "ExecuteTime": {
     "end_time": "2021-02-26T21:46:20.922697Z",
     "start_time": "2021-02-26T21:46:20.883053Z"
    }
   },
   "outputs": [],
   "source": [
    "# create the transforms\n",
    "transforms = transforms.Compose([RemoveOffset(keys=feature_keys),\n",
    "                                 Normalize(norm_vals=norm_vals),\n",
    "                                 DownSample(keys=down_keys, down=down),\n",
    "                                 ToTensor()])\n",
    "\n",
    "# create data module and init the setup\n",
    "dm = CryoDataModule(hdf5_path=path_h5,\n",
    "                    type=type,\n",
    "                    keys=keys,\n",
    "                    channel_indices=channel_indices,\n",
    "                    feature_indices=feature_indices,\n",
    "                    transform=transforms)\n",
    "\n",
    "dm.prepare_data(val_size=0.2,\n",
    "                test_size=0.2,\n",
    "                batch_size=8,\n",
    "                dataset_size=None,\n",
    "                nmbr_workers=0,  # set to number of CPUS on the machine\n",
    "                only_idx=None,\n",
    "                shuffle_dataset=True,\n",
    "                random_seed=42,\n",
    "                feature_keys=feature_keys,\n",
    "                label_keys=label_keys,\n",
    "                keys_one_hot=[])\n",
    "\n",
    "dm.setup()\n",
    "\n",
    "# create lstm clf\n",
    "lstm = LSTMModule(input_size=input_size,\n",
    "                  hidden_size=input_size * 10,\n",
    "                  num_layers=2,\n",
    "                  seq_steps=int(dm.dims[1] / input_size),  # downsampling is already considered in dm\n",
    "                  device_name=device_name,\n",
    "                  nmbr_out=nmbr_out,  # this is the number of labels\n",
    "                  lr=1e-5,\n",
    "                  label_keys=label_keys,\n",
    "                  feature_keys=feature_keys,\n",
    "                  is_classifier=False,\n",
    "                  down=down,\n",
    "                  down_keys=feature_keys,\n",
    "                  norm_vals=norm_vals,\n",
    "                  offset_keys=feature_keys)"
   ]
  },
  {
   "cell_type": "markdown",
   "metadata": {},
   "source": [
    "## Tensorboard"
   ]
  },
  {
   "cell_type": "markdown",
   "metadata": {},
   "source": [
    "We can again start an instance of Tensorboard."
   ]
  },
  {
   "cell_type": "markdown",
   "metadata": {
    "ExecuteTime": {
     "end_time": "2021-02-26T01:39:27.966390Z",
     "start_time": "2021-02-26T01:39:27.960239Z"
    }
   },
   "source": [
    ".. code:: python\n",
    "\n",
    "    %load_ext tensorboard\n",
    "    %tensorboard --logdir=lightning_logs"
   ]
  },
  {
   "cell_type": "markdown",
   "metadata": {},
   "source": [
    ".. note:: \n",
    "\n",
    "    **Tensorboard on Server without X-Forwarding**\n",
    "    If you work on a remote server that has X-forwarding deactivated, i.e. you don't have to option to show graphical elements, you can start the ssh connection with the additional -L flag:\n",
    "\n",
    "        ssh -L 16006:127.0.0.1:6006 <SERVER_SSH_ADRESS>\n",
    "\n",
    "    Then your local machine listens to the standard port of tensorboard on the remote server and you can open the tensorboard interface in a browser on your local machine by typing http://127.0.0.1:16006/ in the address line."
   ]
  },
  {
   "cell_type": "markdown",
   "metadata": {},
   "source": [
    "## Training"
   ]
  },
  {
   "cell_type": "markdown",
   "metadata": {},
   "source": [
    "Thanks to the unified PyTorch Lightning framework, the training works the same way as for a classifier."
   ]
  },
  {
   "cell_type": "code",
   "execution_count": 4,
   "metadata": {
    "ExecuteTime": {
     "end_time": "2021-02-26T21:46:20.932912Z",
     "start_time": "2021-02-26T21:46:20.925566Z"
    }
   },
   "outputs": [
    {
     "name": "stderr",
     "output_type": "stream",
     "text": [
      "GPU available: False, used: False\n",
      "TPU available: False, using: 0 TPU cores\n"
     ]
    }
   ],
   "source": [
    "# create callback to save the best model\n",
    "checkpoint_callback = ModelCheckpoint(dirpath='callbacks',\n",
    "                                      monitor='val_loss',\n",
    "                                      filename=save_naming + '-{epoch:02d}-{val_loss:.2f}')\n",
    "\n",
    "# create instance of Trainer\n",
    "trainer = Trainer(max_epochs=max_epochs,\n",
    "                  callbacks=[checkpoint_callback])\n",
    "# keyword gpus=nmbr_gpus for GPU Usage\n",
    "# keyword max_epochs for number of maximal epochs"
   ]
  },
  {
   "cell_type": "code",
   "execution_count": 5,
   "metadata": {
    "ExecuteTime": {
     "end_time": "2021-02-26T21:49:19.072917Z",
     "start_time": "2021-02-26T21:46:20.935642Z"
    }
   },
   "outputs": [
    {
     "name": "stderr",
     "output_type": "stream",
     "text": [
      "\n",
      "  | Name | Type   | Params\n",
      "--------------------------------\n",
      "0 | lstm | LSTM   | 80 K  \n",
      "1 | fc1  | Linear | 20 K  \n",
      "/Users/felix/.pyenv/versions/3.8.6/lib/python3.8/site-packages/pytorch_lightning/utilities/distributed.py:45: UserWarning: The dataloader, val dataloader 0, does not have many workers which may be a bottleneck. Consider increasing the value of the `num_workers` argument` (try 8 which is the number of cpus on this machine) in the `DataLoader` init to improve performance.\n",
      "  warnings.warn(*args, **kwargs)\n"
     ]
    },
    {
     "data": {
      "application/vnd.jupyter.widget-view+json": {
       "model_id": "",
       "version_major": 2,
       "version_minor": 0
      },
      "text/plain": [
       "HBox(children=(HTML(value='Validation sanity check'), FloatProgress(value=1.0, bar_style='info', layout=Layout…"
      ]
     },
     "metadata": {},
     "output_type": "display_data"
    },
    {
     "name": "stderr",
     "output_type": "stream",
     "text": [
      "/Users/felix/.pyenv/versions/3.8.6/lib/python3.8/site-packages/pytorch_lightning/utilities/distributed.py:45: UserWarning: The dataloader, train dataloader, does not have many workers which may be a bottleneck. Consider increasing the value of the `num_workers` argument` (try 8 which is the number of cpus on this machine) in the `DataLoader` init to improve performance.\n",
      "  warnings.warn(*args, **kwargs)\n"
     ]
    },
    {
     "data": {
      "application/vnd.jupyter.widget-view+json": {
       "model_id": "e114283f49c54b1b94d3e365ed4c43f4",
       "version_major": 2,
       "version_minor": 0
      },
      "text/plain": [
       "HBox(children=(HTML(value='Training'), FloatProgress(value=1.0, bar_style='info', layout=Layout(flex='2'), max…"
      ]
     },
     "metadata": {},
     "output_type": "display_data"
    },
    {
     "data": {
      "application/vnd.jupyter.widget-view+json": {
       "model_id": "",
       "version_major": 2,
       "version_minor": 0
      },
      "text/plain": [
       "HBox(children=(HTML(value='Validating'), FloatProgress(value=1.0, bar_style='info', layout=Layout(flex='2'), m…"
      ]
     },
     "metadata": {},
     "output_type": "display_data"
    },
    {
     "name": "stderr",
     "output_type": "stream",
     "text": [
      "/Users/felix/.pyenv/versions/3.8.6/lib/python3.8/site-packages/torch/optim/lr_scheduler.py:216: UserWarning: Please also save or load the state of the optimizer when saving or loading the scheduler.\n",
      "  warnings.warn(SAVE_STATE_WARNING, UserWarning)\n"
     ]
    },
    {
     "data": {
      "application/vnd.jupyter.widget-view+json": {
       "model_id": "",
       "version_major": 2,
       "version_minor": 0
      },
      "text/plain": [
       "HBox(children=(HTML(value='Validating'), FloatProgress(value=1.0, bar_style='info', layout=Layout(flex='2'), m…"
      ]
     },
     "metadata": {},
     "output_type": "display_data"
    },
    {
     "data": {
      "application/vnd.jupyter.widget-view+json": {
       "model_id": "",
       "version_major": 2,
       "version_minor": 0
      },
      "text/plain": [
       "HBox(children=(HTML(value='Validating'), FloatProgress(value=1.0, bar_style='info', layout=Layout(flex='2'), m…"
      ]
     },
     "metadata": {},
     "output_type": "display_data"
    },
    {
     "data": {
      "application/vnd.jupyter.widget-view+json": {
       "model_id": "",
       "version_major": 2,
       "version_minor": 0
      },
      "text/plain": [
       "HBox(children=(HTML(value='Validating'), FloatProgress(value=1.0, bar_style='info', layout=Layout(flex='2'), m…"
      ]
     },
     "metadata": {},
     "output_type": "display_data"
    },
    {
     "data": {
      "application/vnd.jupyter.widget-view+json": {
       "model_id": "",
       "version_major": 2,
       "version_minor": 0
      },
      "text/plain": [
       "HBox(children=(HTML(value='Validating'), FloatProgress(value=1.0, bar_style='info', layout=Layout(flex='2'), m…"
      ]
     },
     "metadata": {},
     "output_type": "display_data"
    },
    {
     "data": {
      "application/vnd.jupyter.widget-view+json": {
       "model_id": "",
       "version_major": 2,
       "version_minor": 0
      },
      "text/plain": [
       "HBox(children=(HTML(value='Validating'), FloatProgress(value=1.0, bar_style='info', layout=Layout(flex='2'), m…"
      ]
     },
     "metadata": {},
     "output_type": "display_data"
    },
    {
     "data": {
      "application/vnd.jupyter.widget-view+json": {
       "model_id": "",
       "version_major": 2,
       "version_minor": 0
      },
      "text/plain": [
       "HBox(children=(HTML(value='Validating'), FloatProgress(value=1.0, bar_style='info', layout=Layout(flex='2'), m…"
      ]
     },
     "metadata": {},
     "output_type": "display_data"
    },
    {
     "data": {
      "application/vnd.jupyter.widget-view+json": {
       "model_id": "",
       "version_major": 2,
       "version_minor": 0
      },
      "text/plain": [
       "HBox(children=(HTML(value='Validating'), FloatProgress(value=1.0, bar_style='info', layout=Layout(flex='2'), m…"
      ]
     },
     "metadata": {},
     "output_type": "display_data"
    },
    {
     "data": {
      "application/vnd.jupyter.widget-view+json": {
       "model_id": "",
       "version_major": 2,
       "version_minor": 0
      },
      "text/plain": [
       "HBox(children=(HTML(value='Validating'), FloatProgress(value=1.0, bar_style='info', layout=Layout(flex='2'), m…"
      ]
     },
     "metadata": {},
     "output_type": "display_data"
    },
    {
     "data": {
      "application/vnd.jupyter.widget-view+json": {
       "model_id": "",
       "version_major": 2,
       "version_minor": 0
      },
      "text/plain": [
       "HBox(children=(HTML(value='Validating'), FloatProgress(value=1.0, bar_style='info', layout=Layout(flex='2'), m…"
      ]
     },
     "metadata": {},
     "output_type": "display_data"
    },
    {
     "data": {
      "application/vnd.jupyter.widget-view+json": {
       "model_id": "",
       "version_major": 2,
       "version_minor": 0
      },
      "text/plain": [
       "HBox(children=(HTML(value='Validating'), FloatProgress(value=1.0, bar_style='info', layout=Layout(flex='2'), m…"
      ]
     },
     "metadata": {},
     "output_type": "display_data"
    },
    {
     "data": {
      "application/vnd.jupyter.widget-view+json": {
       "model_id": "",
       "version_major": 2,
       "version_minor": 0
      },
      "text/plain": [
       "HBox(children=(HTML(value='Validating'), FloatProgress(value=1.0, bar_style='info', layout=Layout(flex='2'), m…"
      ]
     },
     "metadata": {},
     "output_type": "display_data"
    },
    {
     "data": {
      "application/vnd.jupyter.widget-view+json": {
       "model_id": "",
       "version_major": 2,
       "version_minor": 0
      },
      "text/plain": [
       "HBox(children=(HTML(value='Validating'), FloatProgress(value=1.0, bar_style='info', layout=Layout(flex='2'), m…"
      ]
     },
     "metadata": {},
     "output_type": "display_data"
    },
    {
     "data": {
      "application/vnd.jupyter.widget-view+json": {
       "model_id": "",
       "version_major": 2,
       "version_minor": 0
      },
      "text/plain": [
       "HBox(children=(HTML(value='Validating'), FloatProgress(value=1.0, bar_style='info', layout=Layout(flex='2'), m…"
      ]
     },
     "metadata": {},
     "output_type": "display_data"
    },
    {
     "data": {
      "application/vnd.jupyter.widget-view+json": {
       "model_id": "",
       "version_major": 2,
       "version_minor": 0
      },
      "text/plain": [
       "HBox(children=(HTML(value='Validating'), FloatProgress(value=1.0, bar_style='info', layout=Layout(flex='2'), m…"
      ]
     },
     "metadata": {},
     "output_type": "display_data"
    },
    {
     "data": {
      "application/vnd.jupyter.widget-view+json": {
       "model_id": "",
       "version_major": 2,
       "version_minor": 0
      },
      "text/plain": [
       "HBox(children=(HTML(value='Validating'), FloatProgress(value=1.0, bar_style='info', layout=Layout(flex='2'), m…"
      ]
     },
     "metadata": {},
     "output_type": "display_data"
    },
    {
     "data": {
      "application/vnd.jupyter.widget-view+json": {
       "model_id": "",
       "version_major": 2,
       "version_minor": 0
      },
      "text/plain": [
       "HBox(children=(HTML(value='Validating'), FloatProgress(value=1.0, bar_style='info', layout=Layout(flex='2'), m…"
      ]
     },
     "metadata": {},
     "output_type": "display_data"
    },
    {
     "data": {
      "application/vnd.jupyter.widget-view+json": {
       "model_id": "",
       "version_major": 2,
       "version_minor": 0
      },
      "text/plain": [
       "HBox(children=(HTML(value='Validating'), FloatProgress(value=1.0, bar_style='info', layout=Layout(flex='2'), m…"
      ]
     },
     "metadata": {},
     "output_type": "display_data"
    },
    {
     "data": {
      "application/vnd.jupyter.widget-view+json": {
       "model_id": "",
       "version_major": 2,
       "version_minor": 0
      },
      "text/plain": [
       "HBox(children=(HTML(value='Validating'), FloatProgress(value=1.0, bar_style='info', layout=Layout(flex='2'), m…"
      ]
     },
     "metadata": {},
     "output_type": "display_data"
    },
    {
     "data": {
      "application/vnd.jupyter.widget-view+json": {
       "model_id": "",
       "version_major": 2,
       "version_minor": 0
      },
      "text/plain": [
       "HBox(children=(HTML(value='Validating'), FloatProgress(value=1.0, bar_style='info', layout=Layout(flex='2'), m…"
      ]
     },
     "metadata": {},
     "output_type": "display_data"
    },
    {
     "data": {
      "application/vnd.jupyter.widget-view+json": {
       "model_id": "",
       "version_major": 2,
       "version_minor": 0
      },
      "text/plain": [
       "HBox(children=(HTML(value='Validating'), FloatProgress(value=1.0, bar_style='info', layout=Layout(flex='2'), m…"
      ]
     },
     "metadata": {},
     "output_type": "display_data"
    },
    {
     "data": {
      "application/vnd.jupyter.widget-view+json": {
       "model_id": "",
       "version_major": 2,
       "version_minor": 0
      },
      "text/plain": [
       "HBox(children=(HTML(value='Validating'), FloatProgress(value=1.0, bar_style='info', layout=Layout(flex='2'), m…"
      ]
     },
     "metadata": {},
     "output_type": "display_data"
    },
    {
     "data": {
      "application/vnd.jupyter.widget-view+json": {
       "model_id": "",
       "version_major": 2,
       "version_minor": 0
      },
      "text/plain": [
       "HBox(children=(HTML(value='Validating'), FloatProgress(value=1.0, bar_style='info', layout=Layout(flex='2'), m…"
      ]
     },
     "metadata": {},
     "output_type": "display_data"
    },
    {
     "data": {
      "application/vnd.jupyter.widget-view+json": {
       "model_id": "",
       "version_major": 2,
       "version_minor": 0
      },
      "text/plain": [
       "HBox(children=(HTML(value='Validating'), FloatProgress(value=1.0, bar_style='info', layout=Layout(flex='2'), m…"
      ]
     },
     "metadata": {},
     "output_type": "display_data"
    },
    {
     "data": {
      "application/vnd.jupyter.widget-view+json": {
       "model_id": "",
       "version_major": 2,
       "version_minor": 0
      },
      "text/plain": [
       "HBox(children=(HTML(value='Validating'), FloatProgress(value=1.0, bar_style='info', layout=Layout(flex='2'), m…"
      ]
     },
     "metadata": {},
     "output_type": "display_data"
    },
    {
     "data": {
      "application/vnd.jupyter.widget-view+json": {
       "model_id": "",
       "version_major": 2,
       "version_minor": 0
      },
      "text/plain": [
       "HBox(children=(HTML(value='Validating'), FloatProgress(value=1.0, bar_style='info', layout=Layout(flex='2'), m…"
      ]
     },
     "metadata": {},
     "output_type": "display_data"
    },
    {
     "data": {
      "application/vnd.jupyter.widget-view+json": {
       "model_id": "",
       "version_major": 2,
       "version_minor": 0
      },
      "text/plain": [
       "HBox(children=(HTML(value='Validating'), FloatProgress(value=1.0, bar_style='info', layout=Layout(flex='2'), m…"
      ]
     },
     "metadata": {},
     "output_type": "display_data"
    },
    {
     "data": {
      "application/vnd.jupyter.widget-view+json": {
       "model_id": "",
       "version_major": 2,
       "version_minor": 0
      },
      "text/plain": [
       "HBox(children=(HTML(value='Validating'), FloatProgress(value=1.0, bar_style='info', layout=Layout(flex='2'), m…"
      ]
     },
     "metadata": {},
     "output_type": "display_data"
    },
    {
     "data": {
      "application/vnd.jupyter.widget-view+json": {
       "model_id": "",
       "version_major": 2,
       "version_minor": 0
      },
      "text/plain": [
       "HBox(children=(HTML(value='Validating'), FloatProgress(value=1.0, bar_style='info', layout=Layout(flex='2'), m…"
      ]
     },
     "metadata": {},
     "output_type": "display_data"
    },
    {
     "data": {
      "application/vnd.jupyter.widget-view+json": {
       "model_id": "",
       "version_major": 2,
       "version_minor": 0
      },
      "text/plain": [
       "HBox(children=(HTML(value='Validating'), FloatProgress(value=1.0, bar_style='info', layout=Layout(flex='2'), m…"
      ]
     },
     "metadata": {},
     "output_type": "display_data"
    },
    {
     "name": "stdout",
     "output_type": "stream",
     "text": [
      "\n"
     ]
    },
    {
     "data": {
      "text/plain": [
       "1"
      ]
     },
     "execution_count": 5,
     "metadata": {},
     "output_type": "execute_result"
    }
   ],
   "source": [
    "# all training happens here\n",
    "trainer.fit(model=lstm,\n",
    "            datamodule=dm)"
   ]
  },
  {
   "cell_type": "markdown",
   "metadata": {
    "ExecuteTime": {
     "end_time": "2021-02-25T21:56:32.294873Z",
     "start_time": "2021-02-25T21:56:32.285320Z"
    }
   },
   "source": [
    "## Evaluation"
   ]
  },
  {
   "cell_type": "code",
   "execution_count": 6,
   "metadata": {
    "ExecuteTime": {
     "end_time": "2021-02-26T21:49:19.086827Z",
     "start_time": "2021-02-26T21:49:19.075197Z"
    }
   },
   "outputs": [
    {
     "data": {
      "text/plain": [
       "LSTMModule(\n",
       "  (lstm): LSTM(8, 80, num_layers=2, batch_first=True)\n",
       "  (fc1): Linear(in_features=20480, out_features=1, bias=True)\n",
       ")"
      ]
     },
     "execution_count": 6,
     "metadata": {},
     "output_type": "execute_result"
    }
   ],
   "source": [
    "# load best model\n",
    "lstm.load_from_checkpoint(checkpoint_callback.best_model_path)"
   ]
  },
  {
   "cell_type": "code",
   "execution_count": 7,
   "metadata": {
    "ExecuteTime": {
     "end_time": "2021-02-26T21:49:19.684424Z",
     "start_time": "2021-02-26T21:49:19.091686Z"
    }
   },
   "outputs": [
    {
     "name": "stderr",
     "output_type": "stream",
     "text": [
      "/Users/felix/.pyenv/versions/3.8.6/lib/python3.8/site-packages/pytorch_lightning/utilities/distributed.py:45: UserWarning: The dataloader, test dataloader 0, does not have many workers which may be a bottleneck. Consider increasing the value of the `num_workers` argument` (try 8 which is the number of cpus on this machine) in the `DataLoader` init to improve performance.\n",
      "  warnings.warn(*args, **kwargs)\n"
     ]
    },
    {
     "data": {
      "application/vnd.jupyter.widget-view+json": {
       "model_id": "914fb051b10f484d99da7195a2f39689",
       "version_major": 2,
       "version_minor": 0
      },
      "text/plain": [
       "HBox(children=(HTML(value='Testing'), FloatProgress(value=1.0, bar_style='info', layout=Layout(flex='2'), max=…"
      ]
     },
     "metadata": {},
     "output_type": "display_data"
    },
    {
     "name": "stdout",
     "output_type": "stream",
     "text": [
      "--------------------------------------------------------------------------------\n",
      "DATALOADER:0 TEST RESULTS\n",
      "{'test_loss': tensor(0.0861),\n",
      " 'train_loss': tensor(0.0877),\n",
      " 'val_loss': tensor(0.0820)}\n",
      "--------------------------------------------------------------------------------\n",
      "\n",
      "[{'train_loss': 0.08765215426683426, 'val_loss': 0.08198105543851852, 'test_loss': 0.08606378734111786}]\n"
     ]
    }
   ],
   "source": [
    "# run test set\n",
    "result = trainer.test()\n",
    "print(result)"
   ]
  },
  {
   "cell_type": "markdown",
   "metadata": {},
   "source": [
    "For evaluation, we calculate the RMS between our predictions and the true pulse heights on the test set."
   ]
  },
  {
   "cell_type": "code",
   "execution_count": 8,
   "metadata": {
    "ExecuteTime": {
     "end_time": "2021-02-26T21:49:19.972754Z",
     "start_time": "2021-02-26T21:49:19.687552Z"
    }
   },
   "outputs": [
    {
     "name": "stdout",
     "output_type": "stream",
     "text": [
      "RMS OF PREDICTION:  0.295772631445084\n",
      "Best model:  /Users/felix/PycharmProjects/cait/docs/source/tutorials/callbacks/lstm-reg-epoch=29-val_loss=0.08.ckpt\n",
      "Predictions:  [[0.5220093 ]\n",
      " [0.5255004 ]\n",
      " [0.52862716]\n",
      " [0.52044594]\n",
      " [0.5275782 ]\n",
      " [0.52429986]\n",
      " [0.5238772 ]\n",
      " [0.52655476]\n",
      " [0.5254569 ]\n",
      " [0.52600735]\n",
      " [0.52401674]\n",
      " [0.52293783]\n",
      " [0.5260266 ]\n",
      " [0.5294015 ]\n",
      " [0.5215756 ]\n",
      " [0.5225704 ]\n",
      " [0.5257207 ]\n",
      " [0.5237862 ]\n",
      " [0.52188224]\n",
      " [0.52021885]\n",
      " [0.5214118 ]\n",
      " [0.5221685 ]\n",
      " [0.5255509 ]\n",
      " [0.5281414 ]\n",
      " [0.52929693]\n",
      " [0.52240986]\n",
      " [0.52910435]\n",
      " [0.52146083]\n",
      " [0.5268782 ]\n",
      " [0.5254058 ]\n",
      " [0.5201331 ]\n",
      " [0.52234995]\n",
      " [0.52389455]\n",
      " [0.5256158 ]\n",
      " [0.5258531 ]\n",
      " [0.5245022 ]\n",
      " [0.5233257 ]\n",
      " [0.52131426]\n",
      " [0.52425593]\n",
      " [0.5283461 ]\n",
      " [0.5197611 ]\n",
      " [0.52243507]\n",
      " [0.52447784]\n",
      " [0.5255025 ]\n",
      " [0.52510685]\n",
      " [0.52533174]\n",
      " [0.5232987 ]\n",
      " [0.52653694]\n",
      " [0.5241416 ]\n",
      " [0.5284788 ]\n",
      " [0.52299255]\n",
      " [0.52061415]\n",
      " [0.52241623]\n",
      " [0.52364415]\n",
      " [0.5235818 ]\n",
      " [0.523575  ]\n",
      " [0.52708817]\n",
      " [0.5268746 ]\n",
      " [0.525567  ]\n",
      " [0.52490616]\n",
      " [0.5209398 ]\n",
      " [0.5204247 ]\n",
      " [0.52018625]\n",
      " [0.5250554 ]\n",
      " [0.5263228 ]\n",
      " [0.52419424]\n",
      " [0.52139664]\n",
      " [0.5226486 ]\n",
      " [0.52617234]\n",
      " [0.5230461 ]\n",
      " [0.52168155]\n",
      " [0.5288801 ]\n",
      " [0.5227832 ]\n",
      " [0.5253025 ]\n",
      " [0.5264722 ]\n",
      " [0.52070445]\n",
      " [0.5273845 ]\n",
      " [0.5204653 ]\n",
      " [0.52296764]\n",
      " [0.5245979 ]\n",
      " [0.5294752 ]\n",
      " [0.52627593]\n",
      " [0.5237515 ]\n",
      " [0.52889764]\n",
      " [0.5207814 ]\n",
      " [0.5210938 ]\n",
      " [0.5207981 ]\n",
      " [0.5216083 ]\n",
      " [0.52051395]\n",
      " [0.5255066 ]\n",
      " [0.52680016]\n",
      " [0.5228868 ]\n",
      " [0.5236825 ]\n",
      " [0.5236937 ]\n",
      " [0.52184695]\n",
      " [0.5222317 ]\n",
      " [0.5204864 ]\n",
      " [0.52126443]\n",
      " [0.52652985]\n",
      " [0.52536213]]\n"
     ]
    }
   ],
   "source": [
    "# predictions with the model are made that way\n",
    "f = h5py.File(dm.hdf5_path, 'r')\n",
    "test_idx = dm.test_sampler.indices\n",
    "test_idx.sort()\n",
    "x = {feature_keys[0]: f[type][keys[0]][channel_indices[0][0], test_idx]}  # array of shape: (nmbr_events, nmbr_features)\n",
    "y = np.array(f[type][keys[1]][channel_indices[1][0], test_idx])\n",
    "prediction = lstm.predict(x).numpy()\n",
    "\n",
    "# predictions can be saved with instance of EvaluationTools\n",
    "print('RMS OF PREDICTION: ', np.sqrt(np.mean((prediction - y)**2)))\n",
    "print('Best model: ', checkpoint_callback.best_model_path)\n",
    "print('Predictions: ', prediction)"
   ]
  },
  {
   "cell_type": "markdown",
   "metadata": {},
   "source": [
    "Oh gosh, this did not work so well! Can you improve it? ;-)\n",
    "\\\n",
    "\\\n",
    "\\\n",
    "\\\n",
    "\\\n",
    "\\\n",
    "\\\n",
    "\\\n",
    "\\\n",
    "\\\n",
    "\\\n",
    "\\\n",
    "\\\n",
    "\\\n",
    "\\\n",
    "\\\n",
    "(Okay, we did not try if the score can be improved for this training set. Feel free to try, do not feel bad if it does not work. Hope your enjoyed the tutorials!)"
   ]
  },
  {
   "cell_type": "markdown",
   "metadata": {},
   "source": [
    "Please forward questions and correspondence about this notebook to felix.wagner(at)oeaw.ac.at."
   ]
  }
 ],
 "metadata": {
  "kernelspec": {
   "display_name": "Python 3",
   "language": "python",
   "name": "python3"
  },
  "language_info": {
   "codemirror_mode": {
    "name": "ipython",
    "version": 3
   },
   "file_extension": ".py",
   "mimetype": "text/x-python",
   "name": "python",
   "nbconvert_exporter": "python",
   "pygments_lexer": "ipython3",
   "version": "3.8.6"
  },
  "varInspector": {
   "cols": {
    "lenName": 16,
    "lenType": 16,
    "lenVar": 40
   },
   "kernels_config": {
    "python": {
     "delete_cmd_postfix": "",
     "delete_cmd_prefix": "del ",
     "library": "var_list.py",
     "varRefreshCmd": "print(var_dic_list())"
    },
    "r": {
     "delete_cmd_postfix": ") ",
     "delete_cmd_prefix": "rm(",
     "library": "var_list.r",
     "varRefreshCmd": "cat(var_dic_list()) "
    }
   },
   "types_to_exclude": [
    "module",
    "function",
    "builtin_function_or_method",
    "instance",
    "_Feature"
   ],
   "window_display": false
  }
 },
 "nbformat": 4,
 "nbformat_minor": 4
}
